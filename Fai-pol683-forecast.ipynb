{
 "cells": [
  {
   "attachments": {},
   "cell_type": "markdown",
   "metadata": {},
   "source": [
    "### Super Simple Forecast: Presidential Popular Vote 2020\n",
    "by Fai Tosuratana for POL683 -- Fall 2020"
   ]
  },
  {
   "cell_type": "markdown",
   "metadata": {},
   "source": [
    "#### General Ide"
   ]
  },
  {
   "cell_type": "markdown",
   "metadata": {},
   "source": []
  },
  {
   "cell_type": "code",
   "execution_count": null,
   "metadata": {},
   "outputs": [],
   "source": []
  },
  {
   "cell_type": "code",
   "execution_count": null,
   "metadata": {},
   "outputs": [],
   "source": [
    "setwd(\"C:/Users/tosur/OneDrive/Desktop/POL683/midterm-data\")\n",
    "install.packages(\"tidyverse\") \n",
    "library(dplyr) # in tidyverse for merging\n",
    "install.packages(\"tidyr\")\n",
    "library(tidyr) # for spread function\n",
    "\n",
    "####Download data sets#### \n",
    "####** poll average data set####\n",
    "poll.p <- read.csv(\"presidential_poll_averages_2020.csv\")\n",
    "states.p <- unique(poll.p['state'])\n",
    "#dim(states.p)"
   ]
  },
  {
   "cell_type": "code",
   "execution_count": null,
   "metadata": {},
   "outputs": [],
   "source": []
  },
  {
   "cell_type": "code",
   "execution_count": 6,
   "metadata": {},
   "outputs": [],
   "source": [
    "econ.p <- read.csv(\"economic_index.csv\")\n",
    "econ.wide <- econ.p %>% spread(category, current_zscore) \n",
    "econ <- econ.wide %>% select(modeldate, \"stock market\", spending, manufacturing, jobs, inflation, income, combined)"
   ]
  },
  {
   "cell_type": "code",
   "execution_count": 8,
   "metadata": {},
   "outputs": [],
   "source": [
    "stock.avg.1m <- matrix(nrow=1)\n",
    "for(i in 1:146) {\n",
    "  j <- (i+10)*7\n",
    "  k <- (i+40)*7\n",
    "  m <- mean(econ$`stock market`[j:k], na.rm = TRUE)\n",
    "  stock.avg.1m <- rbind(stock.avg.1m, m)\n",
    "}  \n",
    "stock.avg.1m <- stock.avg.1m[2:137]\n",
    "\n",
    "##spending\n",
    "spending.avg.1m <- matrix(nrow=1)\n",
    "for(i in 1:146) {\n",
    "  j <- (i+10)*7\n",
    "  k <- (i+40)*7\n",
    "  m <- mean(econ$`spending`[j:k], na.rm = TRUE)\n",
    "  spending.avg.1m <- rbind(spending.avg.1m, m)\n",
    "}  \n",
    "spending.avg.1m <- spending.avg.1m[2:137]\n",
    "\n",
    "##manufacturing\n",
    "manufacturing.avg.1m <- matrix(nrow=1)\n",
    "for(i in 1:146) {\n",
    "  j <- (i+10)*7\n",
    "  k <- (i+40)*7\n",
    "  m <- mean(econ$`manufacturing`[j:k], na.rm = TRUE)\n",
    "  manufacturing.avg.1m <- rbind(manufacturing.avg.1m, m)\n",
    "}  \n",
    "manufacturing.avg.1m <- manufacturing.avg.1m[2:137]\n",
    "\n",
    "##jobs\n",
    "jobs.avg.1m <- matrix(nrow=1)\n",
    "for(i in 1:146) {\n",
    "  j <- (i+10)*7\n",
    "  k <- (i+40)*7\n",
    "  m <- mean(econ$`jobs`[j:k], na.rm = TRUE)\n",
    "  jobs.avg.1m <- rbind(jobs.avg.1m, m)\n",
    "}  \n",
    "jobs.avg.1m <- jobs.avg.1m[2:137]\n",
    "\n",
    "##inflation\n",
    "inflation.avg.1m <- matrix(nrow=1)\n",
    "for(i in 1:146) {\n",
    "  j <- (i+10)*7\n",
    "  k <- (i+40)*7\n",
    "  m <- mean(econ$`inflation`[j:k], na.rm = TRUE)\n",
    "  inflation.avg.1m <- rbind(inflation.avg.1m, m)\n",
    "}  \n",
    "inflation.avg.1m <- inflation.avg.1m[2:137]\n",
    "\n",
    "##income\n",
    "income.avg.1m <- matrix(nrow=1)\n",
    "for(i in 1:146) {\n",
    "  j <- (i+10)*7\n",
    "  k <- (i+40)*7\n",
    "  m <- mean(econ$`income`[j:k], na.rm = TRUE)\n",
    "  income.avg.1m <- rbind(income.avg.1m, m)\n",
    "}  \n",
    "income.avg.1m <- income.avg.1m[2:137]\n",
    "\n",
    "##combined\n",
    "combined.avg.1m <- matrix(nrow=1)\n",
    "for(i in 1:146) {\n",
    "  j <- (i+10)*7\n",
    "  k <- (i+40)*7\n",
    "  m <- mean(econ$`combined`[j:k], na.rm = TRUE)\n",
    "  combined.avg.1m <- rbind(combined.avg.1m, m)\n",
    "}  \n",
    "combined.avg.1m <- combined.avg.1m[2:137]\n"
   ]
  },
  {
   "cell_type": "code",
   "execution_count": 12,
   "metadata": {},
   "outputs": [],
   "source": [
    "date <- unique(econ$'modeldate')\n",
    "econ.avg.1m <- data.frame(\"modeldate\" = date[1:136], \"stock market\" = stock.avg.1m, \"spending\" = spending.avg.1m, \"manufacturing\" = manufacturing.avg.1m, \"jobs\" = jobs.avg.1m, \"inflation\" = inflation.avg.1m, \"income\" = income.avg.1m, \"combined\" = combined.avg.1m)"
   ]
  },
  {
   "cell_type": "code",
   "execution_count": 13,
   "metadata": {},
   "outputs": [
    {
     "data": {
      "text/plain": [
       "\n",
       "Call:\n",
       "lm(formula = pct_estimate ~ stock.market + spending + manufacturing + \n",
       "    jobs + inflation + income, data = poll.National.Biden.c)\n",
       "\n",
       "Residuals:\n",
       "     Min       1Q   Median       3Q      Max \n",
       "-0.64573 -0.21509 -0.00903  0.17265  0.55651 \n",
       "\n",
       "Coefficients:\n",
       "              Estimate Std. Error t value Pr(>|t|)    \n",
       "(Intercept)    63.8155     1.0421  61.237  < 2e-16 ***\n",
       "stock.market   -3.7783     0.3197 -11.818  < 2e-16 ***\n",
       "spending       -1.0147     0.1227  -8.267 1.51e-13 ***\n",
       "manufacturing   0.7324     0.4782   1.532 0.128085    \n",
       "jobs            1.4126     0.1839   7.680 3.60e-12 ***\n",
       "inflation      -6.4757     1.7657  -3.667 0.000358 ***\n",
       "income         -0.3893     0.1521  -2.560 0.011631 *  \n",
       "---\n",
       "Signif. codes:  0 '***' 0.001 '**' 0.01 '*' 0.05 '.' 0.1 ' ' 1\n",
       "\n",
       "Residual standard error: 0.2679 on 128 degrees of freedom\n",
       "  (1 observation deleted due to missingness)\n",
       "Multiple R-squared:  0.8294,\tAdjusted R-squared:  0.8214 \n",
       "F-statistic: 103.7 on 6 and 128 DF,  p-value: < 2.2e-16\n"
      ]
     },
     "metadata": {},
     "output_type": "display_data"
    }
   ],
   "source": [
    "####Regress to get the B's for the forecast model####\n",
    "#Let's try to do this for one state (actually, let's do national) and see what happens\n",
    "#Biden\n",
    "poll.National.Biden <- poll.p %>% filter(state == \"National\", candidate_name == \"Joseph R. Biden Jr.\")\n",
    "poll.National.Biden.c <- merge(poll.National.Biden[1:136,],econ.avg.1m, by.x = \"modeldate\", by.y = \"modeldate\")\n",
    "#View(poll.National.Biden.c)\n",
    "\n",
    "lm1 <- lm( pct_estimate ~ stock.market + spending + manufacturing + jobs + inflation + income , poll.National.Biden.c) \n",
    "summary(lm1)\n"
   ]
  },
  {
   "cell_type": "code",
   "execution_count": null,
   "metadata": {},
   "outputs": [],
   "source": []
  }
 ],
 "metadata": {
  "kernelspec": {
   "display_name": "R",
   "language": "R",
   "name": "ir"
  },
  "language_info": {
   "codemirror_mode": "r",
   "file_extension": ".r",
   "mimetype": "text/x-r-source",
   "name": "R",
   "pygments_lexer": "r",
   "version": "3.6.1"
  }
 },
 "nbformat": 4,
 "nbformat_minor": 4
}
