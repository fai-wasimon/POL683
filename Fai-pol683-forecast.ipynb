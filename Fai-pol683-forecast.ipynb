{
 "cells": [
  {
   "attachments": {},
   "cell_type": "markdown",
   "metadata": {},
   "source": [
    "## Super Simple Forecast: Presidential Popular Vote 2020\n",
    "by Fai Tosuratana for POL683 -- Fall 2020"
   ]
  },
  {
   "attachments": {},
   "cell_type": "markdown",
   "metadata": {},
   "source": [
    "## 1. General idea: economic factors affect voters’ preference\n",
    "**Economic conditions => Who you vote for** \n",
    "* If the economy is good => incumbent (Trump)\n",
    "* If the economy is bad => challenger (Biden)\n",
    "\n",
    "**Assumptions:**\n",
    "* Other variables *(COVID, foreign affairs, social issues, etc.)*  will reflect in the economic conditions.\n",
    "* Everybody votes on Nov 3rd.\n",
    "* We forecast on Oct 24, which is 10 days before the election days\n",
    "\n",
    "## 2. General idea for the model\n",
    "### Lagged time economic conditions => popularity => votes\n",
    "* The economic conditions 10-40 days before Day N can predict how many people say they would vote for a candidate on Day N (polling data). **-- REGRESSION STEP** \n",
    "* Use the economic conditions 10-40 days before Nov 3 to predict 'popularity' on Nov 3. **-- FORECASTING STEP** \n",
    "* **Bonus step**: the number of people who will vote for a candidate is (polling data)x(voter's turnout) \n",
    "\n",
    "### Data\n",
    "**Who you vote for = polling average from 538** \n",
    "* file = presidential_polls_2020.csv \n",
    "* DV = pct_estimate which is polling average for each candidate for each day\n",
    "* ignoring convention boost data points\n",
    "* unit is day-state (including national)\n",
    "\n",
    "**Economic conditions = economic index from 538**\n",
    "* file = economic_index.csv \n",
    "* IVs = \"current_zscore\" of stock market, spending, manufacturing, jobs, inflation, income\n",
    "* current_zscore = number of standard deviations from the previous 2-year average for the current value of the indicator\n",
    "* unit is day\n",
    "\n",
    "Reference:  \n",
    "https://github.com/fivethirtyeight/data/tree/master/election-forecasts-2020  \n",
    "https://data.fivethirtyeight.com/\n",
    "\n",
    "### Before we go to section 3, let's load some R packages and get our data sets together"
   ]
  },
  {
   "cell_type": "code",
   "execution_count": null,
   "metadata": {},
   "outputs": [],
   "source": [
    "#### Setting directory, loading packages ####\n",
    "setwd(\"C:/Users/tosur/OneDrive/Desktop/POL683/midterm-data\")\n",
    "install.packages(\"tidyverse\") \n",
    "library(dplyr) # in tidyverse for merging\n",
    "install.packages(\"tidyr\")\n",
    "library(tidyr) # for spread function"
   ]
  },
  {
   "cell_type": "code",
   "execution_count": null,
   "metadata": {},
   "outputs": [],
   "source": [
    "#### Download data sets #### \n",
    "####** poll average data set####\n",
    "poll.p <- read.csv(\"presidential_poll_averages_2020.csv\")\n",
    "states.p <- unique(poll.p['state'])\n",
    "#dim(states.p)\n",
    "#View(states.p)\n",
    "#typeof(states.p) #is a list\n",
    "#class(states.p) #is a dataframe?\n",
    "\n",
    "####** economic index data set####\n",
    "econ.p <- read.csv(\"economic_index.csv\")\n",
    "econ.wide <- econ.p %>% spread(category, current_zscore) \n",
    "#View(econ.wide)\n",
    "#colname(econ.wide)\n",
    "\n",
    "econ <- econ.wide %>% select(modeldate, \"stock market\", spending, manufacturing, jobs, inflation, income, combined) \n",
    "# For some reason \"stock market\" has to be in quote for the command to run"
   ]
  },
  {
   "cell_type": "code",
   "execution_count": 16,
   "metadata": {},
   "outputs": [],
   "source": [
    "#### Build a new data set with econ index averaged for the past month starting on the 10th day ####\n",
    "## that is T-10 to T-40\n",
    "\n",
    "####** build vectors with average of past T-10 to T-40 day value####\n",
    "#(A better way to do this is to put names into a vector and loop these but I've been having low-grade fever and my brian can't do it right now)\n",
    "\n",
    "##stock market\n",
    "stock.avg.1m <- matrix(nrow=1)\n",
    "for(i in 1:146) {\n",
    "  j <- (i+10)*7\n",
    "  k <- (i+40)*7\n",
    "  m <- mean(econ$`stock market`[j:k], na.rm = TRUE)\n",
    "  stock.avg.1m <- rbind(stock.avg.1m, m)\n",
    "}  \n",
    "stock.avg.1m <- stock.avg.1m[2:137]\n",
    "\n",
    "##spending\n",
    "spending.avg.1m <- matrix(nrow=1)\n",
    "for(i in 1:146) {\n",
    "  j <- (i+10)*7\n",
    "  k <- (i+40)*7\n",
    "  m <- mean(econ$`spending`[j:k], na.rm = TRUE)\n",
    "  spending.avg.1m <- rbind(spending.avg.1m, m)\n",
    "}  \n",
    "spending.avg.1m <- spending.avg.1m[2:137]\n",
    "\n",
    "##manufacturing\n",
    "manufacturing.avg.1m <- matrix(nrow=1)\n",
    "for(i in 1:146) {\n",
    "  j <- (i+10)*7\n",
    "  k <- (i+40)*7\n",
    "  m <- mean(econ$`manufacturing`[j:k], na.rm = TRUE)\n",
    "  manufacturing.avg.1m <- rbind(manufacturing.avg.1m, m)\n",
    "}  \n",
    "manufacturing.avg.1m <- manufacturing.avg.1m[2:137]\n",
    "\n",
    "##jobs\n",
    "jobs.avg.1m <- matrix(nrow=1)\n",
    "for(i in 1:146) {\n",
    "  j <- (i+10)*7\n",
    "  k <- (i+40)*7\n",
    "  m <- mean(econ$`jobs`[j:k], na.rm = TRUE)\n",
    "  jobs.avg.1m <- rbind(jobs.avg.1m, m)\n",
    "}  \n",
    "jobs.avg.1m <- jobs.avg.1m[2:137]\n",
    "\n",
    "##inflation\n",
    "inflation.avg.1m <- matrix(nrow=1)\n",
    "for(i in 1:146) {\n",
    "  j <- (i+10)*7\n",
    "  k <- (i+40)*7\n",
    "  m <- mean(econ$`inflation`[j:k], na.rm = TRUE)\n",
    "  inflation.avg.1m <- rbind(inflation.avg.1m, m)\n",
    "}  \n",
    "inflation.avg.1m <- inflation.avg.1m[2:137]\n",
    "\n",
    "##income\n",
    "income.avg.1m <- matrix(nrow=1)\n",
    "for(i in 1:146) {\n",
    "  j <- (i+10)*7\n",
    "  k <- (i+40)*7\n",
    "  m <- mean(econ$`income`[j:k], na.rm = TRUE)\n",
    "  income.avg.1m <- rbind(income.avg.1m, m)\n",
    "}  \n",
    "income.avg.1m <- income.avg.1m[2:137]\n",
    "\n",
    "##combined\n",
    "combined.avg.1m <- matrix(nrow=1)\n",
    "for(i in 1:146) {\n",
    "  j <- (i+10)*7\n",
    "  k <- (i+40)*7\n",
    "  m <- mean(econ$`combined`[j:k], na.rm = TRUE)\n",
    "  combined.avg.1m <- rbind(combined.avg.1m, m)\n",
    "}  \n",
    "combined.avg.1m <- combined.avg.1m[2:137]\n",
    "\n",
    "####** put vectors into a new data frame####\n",
    "date <- unique(econ$'modeldate')\n",
    "#View(date)\n",
    "econ.avg.1m <- data.frame(\"modeldate\" = date[1:136], \"stock market\" = stock.avg.1m, \"spending\" = spending.avg.1m, \"manufacturing\" = manufacturing.avg.1m, \"jobs\" = jobs.avg.1m, \"inflation\" = inflation.avg.1m, \"income\" = income.avg.1m, \"combined\" = combined.avg.1m)\n",
    "#View(econ.avg.1m)"
   ]
  },
  {
   "cell_type": "markdown",
   "metadata": {},
   "source": [
    "## 3. Regression step \n",
    "\n",
    "Very simple OLS model:\n",
    "\n",
    "\\begin{equation*}\n",
    "pct.estimate  =  \\beta_0 + \\beta_1 Stock Market + \\beta_2 Spending + \\beta_3 Manufactoring + \\beta_4 Jobs + \\beta_5 Inflation + \\beta_6 Income + \\epsilon_i \n",
    "\\end{equation*}"
   ]
  },
  {
   "cell_type": "code",
   "execution_count": 15,
   "metadata": {},
   "outputs": [
    {
     "data": {
      "text/plain": [
       "\n",
       "Call:\n",
       "lm(formula = pct_estimate ~ stock.market + spending + manufacturing + \n",
       "    jobs + inflation + income, data = poll.National.Biden.c)\n",
       "\n",
       "Residuals:\n",
       "     Min       1Q   Median       3Q      Max \n",
       "-0.64573 -0.21509 -0.00903  0.17265  0.55651 \n",
       "\n",
       "Coefficients:\n",
       "              Estimate Std. Error t value Pr(>|t|)    \n",
       "(Intercept)    63.8155     1.0421  61.237  < 2e-16 ***\n",
       "stock.market   -3.7783     0.3197 -11.818  < 2e-16 ***\n",
       "spending       -1.0147     0.1227  -8.267 1.51e-13 ***\n",
       "manufacturing   0.7324     0.4782   1.532 0.128085    \n",
       "jobs            1.4126     0.1839   7.680 3.60e-12 ***\n",
       "inflation      -6.4757     1.7657  -3.667 0.000358 ***\n",
       "income         -0.3893     0.1521  -2.560 0.011631 *  \n",
       "---\n",
       "Signif. codes:  0 '***' 0.001 '**' 0.01 '*' 0.05 '.' 0.1 ' ' 1\n",
       "\n",
       "Residual standard error: 0.2679 on 128 degrees of freedom\n",
       "  (1 observation deleted due to missingness)\n",
       "Multiple R-squared:  0.8294,\tAdjusted R-squared:  0.8214 \n",
       "F-statistic: 103.7 on 6 and 128 DF,  p-value: < 2.2e-16\n"
      ]
     },
     "metadata": {},
     "output_type": "display_data"
    },
    {
     "data": {
      "text/plain": [
       "\n",
       "Call:\n",
       "lm(formula = pct_estimate ~ stock.market + spending + manufacturing + \n",
       "    jobs + inflation + income, data = poll.National.Trump.c)\n",
       "\n",
       "Residuals:\n",
       "     Min       1Q   Median       3Q      Max \n",
       "-0.51960 -0.14487 -0.00857  0.12785  0.84444 \n",
       "\n",
       "Coefficients:\n",
       "              Estimate Std. Error t value Pr(>|t|)    \n",
       "(Intercept)   36.54473    0.82783  44.145  < 2e-16 ***\n",
       "stock.market   3.86620    0.25397  15.223  < 2e-16 ***\n",
       "spending       0.21826    0.09750   2.238  0.02692 *  \n",
       "manufacturing -0.04796    0.37989  -0.126  0.89974    \n",
       "jobs          -0.80394    0.14611  -5.502 1.96e-07 ***\n",
       "inflation      1.95480    1.40265   1.394  0.16584    \n",
       "income        -0.34556    0.12080  -2.861  0.00494 ** \n",
       "---\n",
       "Signif. codes:  0 '***' 0.001 '**' 0.01 '*' 0.05 '.' 0.1 ' ' 1\n",
       "\n",
       "Residual standard error: 0.2128 on 128 degrees of freedom\n",
       "  (1 observation deleted due to missingness)\n",
       "Multiple R-squared:  0.8922,\tAdjusted R-squared:  0.8871 \n",
       "F-statistic: 176.5 on 6 and 128 DF,  p-value: < 2.2e-16\n"
      ]
     },
     "metadata": {},
     "output_type": "display_data"
    }
   ],
   "source": [
    "####Regress to get the B's for the forecast model####\n",
    "#Let's try to do this for one state (actually, let's do national) and see what happens\n",
    "#Biden\n",
    "poll.National.Biden <- poll.p %>% filter(state == \"National\", candidate_name == \"Joseph R. Biden Jr.\")\n",
    "poll.National.Biden.c <- merge(poll.National.Biden[1:136,],econ.avg.1m, by.x = \"modeldate\", by.y = \"modeldate\")\n",
    "#View(poll.National.Biden.c)\n",
    "\n",
    "lm1 <- lm( pct_estimate ~ stock.market + spending + manufacturing + jobs + inflation + income , poll.National.Biden.c) \n",
    "summary(lm1)\n",
    "\n",
    "#Trump\n",
    "poll.National.Trump <- poll.p %>% filter(state == \"National\", candidate_name == \"Donald Trump\")\n",
    "poll.National.Trump.c <- merge(poll.National.Trump[1:136,],econ.avg.1m, by.x = \"modeldate\", by.y = \"modeldate\")\n",
    "\n",
    "lm2 <- lm( pct_estimate ~ stock.market + spending + manufacturing + jobs + inflation + income , poll.National.Trump.c) \n",
    "summary(lm2)"
   ]
  },
  {
   "cell_type": "markdown",
   "metadata": {},
   "source": [
    "## 4. Forecasting step \n",
    "\n",
    "### From our regression step, we get the models\n",
    "#### For Biden \n",
    "\\begin{equation*}\n",
    "pct.estimate  =  63.8155 + (-3.7783)Stock Market + (-1.0147)Spending + (0.7324)Manufactoring \n",
    "\\\\ + (1.4126)Jobs + (-6.4757)Inflation + (-0.3893)Income \n",
    "\\end{equation*}\n",
    "\n",
    "#### For Trump \n",
    "\\begin{equation*}\n",
    "pct.estimate  =  36.54473 + (3.86620)Stock Market + (0.21826)Spending + (-0.04796)Manufactoring \n",
    "\\\\ + (-0.80394)Jobs + (1.95480)Inflation + (-0.34556)Income \n",
    "\\end{equation*}\n",
    "\n",
    "#### Then\n",
    "We will find the average value of each economic index from T-10 to T-40 from election day, and predict how \"popular\" each candidate is on Nov 3rd."
   ]
  },
  {
   "cell_type": "code",
   "execution_count": 18,
   "metadata": {},
   "outputs": [
    {
     "data": {
      "text/html": [
       "<table>\n",
       "<caption>A matrix: 1 × 1 of type dbl</caption>\n",
       "<thead>\n",
       "\t<tr><th scope=col>1</th></tr>\n",
       "</thead>\n",
       "<tbody>\n",
       "\t<tr><td>52.39488</td></tr>\n",
       "</tbody>\n",
       "</table>\n"
      ],
      "text/latex": [
       "A matrix: 1 × 1 of type dbl\n",
       "\\begin{tabular}{l}\n",
       " 1\\\\\n",
       "\\hline\n",
       "\t 52.39488\\\\\n",
       "\\end{tabular}\n"
      ],
      "text/markdown": [
       "\n",
       "A matrix: 1 × 1 of type dbl\n",
       "\n",
       "| 1 |\n",
       "|---|\n",
       "| 52.39488 |\n",
       "\n"
      ],
      "text/plain": [
       "     1       \n",
       "[1,] 52.39488"
      ]
     },
     "metadata": {},
     "output_type": "display_data"
    },
    {
     "data": {
      "text/html": [
       "<table>\n",
       "<caption>A matrix: 1 × 1 of type dbl</caption>\n",
       "<thead>\n",
       "\t<tr><th scope=col>1</th></tr>\n",
       "</thead>\n",
       "<tbody>\n",
       "\t<tr><td>42.25925</td></tr>\n",
       "</tbody>\n",
       "</table>\n"
      ],
      "text/latex": [
       "A matrix: 1 × 1 of type dbl\n",
       "\\begin{tabular}{l}\n",
       " 1\\\\\n",
       "\\hline\n",
       "\t 42.25925\\\\\n",
       "\\end{tabular}\n"
      ],
      "text/markdown": [
       "\n",
       "A matrix: 1 × 1 of type dbl\n",
       "\n",
       "| 1 |\n",
       "|---|\n",
       "| 42.25925 |\n",
       "\n"
      ],
      "text/plain": [
       "     1       \n",
       "[1,] 42.25925"
      ]
     },
     "metadata": {},
     "output_type": "display_data"
    }
   ],
   "source": [
    "##lagged economic conditions\n",
    "lagged.econ <- econ.avg.1m[1,2:7] # extracting the average value of each economic index from T-10 to T-40 from election day\n",
    "\n",
    "##Biden\n",
    "beta0.lm1 <- summary(lm1)$coefficients[1,1] # extracting beta_0\n",
    "coeff.lm1 <- summary(lm1)$coefficients[2:7,1] # extracting other beta's in a form of vector\n",
    "\n",
    "biden.pop <- (coeff.lm1 %*% t(lagged.econ)) + beta0.lm1\n",
    "biden.pop\n",
    "\n",
    "##Trump\n",
    "beta0.lm2 <- summary(lm2)$coefficients[1,1] # extracting beta_0\n",
    "coeff.lm2 <- summary(lm2)$coefficients[2:7,1] # extracting other beta's in a form of vector\n",
    "\n",
    "trump.pop <- (coeff.lm2 %*% t(lagged.econ)) + beta0.lm2\n",
    "trump.pop"
   ]
  },
  {
   "cell_type": "markdown",
   "metadata": {},
   "source": [
    "### From the 'model', Biden will have 52.39488% of the votes and Trump 42.25925% of the votes. If we make it such that it has two options only, Biden will have about 55.354% of the votes and Trump 44.646% of the votes.\n",
    "\n",
    "\n",
    "## 5. Some improvements\n",
    "\n",
    "* If we're doing this for each state, it might be even more 'accurate.' \n",
    "* We can also pair by-state prediction with how easy it is to vote in the state<sup>[1]</sup>. This means that the percentage of 'popularity' might have to be weighted by different turnout rates in addition to the voting populations.\n",
    "\n",
    "[1] https://www.liebertpub.com/doi/full/10.1089/elj.2017.0478 from https://fivethirtyeight.com/features/how-fivethirtyeights-2020-presidential-forecast-works-and-whats-different-because-of-covid-19/"
   ]
  },
  {
   "cell_type": "code",
   "execution_count": 17,
   "metadata": {},
   "outputs": [
    {
     "data": {
      "text/plain": [
       "\n",
       "Call:\n",
       "lm(formula = pct_estimate ~ stock.market + spending + manufacturing + \n",
       "    jobs + inflation + income, data = poll.WI.Biden.c)\n",
       "\n",
       "Residuals:\n",
       "     Min       1Q   Median       3Q      Max \n",
       "-0.72129 -0.13192  0.04922  0.16721  0.95169 \n",
       "\n",
       "Coefficients:\n",
       "              Estimate Std. Error t value Pr(>|t|)    \n",
       "(Intercept)    52.0893     1.2432  41.898  < 2e-16 ***\n",
       "stock.market    1.0346     0.3814   2.713 0.007593 ** \n",
       "spending       -0.5318     0.1464  -3.631 0.000406 ***\n",
       "manufacturing   1.4941     0.5705   2.619 0.009889 ** \n",
       "jobs            0.9459     0.2194   4.311 3.22e-05 ***\n",
       "inflation       3.0928     2.1065   1.468 0.144504    \n",
       "income          0.1729     0.1814   0.953 0.342326    \n",
       "---\n",
       "Signif. codes:  0 '***' 0.001 '**' 0.01 '*' 0.05 '.' 0.1 ' ' 1\n",
       "\n",
       "Residual standard error: 0.3196 on 128 degrees of freedom\n",
       "  (1 observation deleted due to missingness)\n",
       "Multiple R-squared:  0.8067,\tAdjusted R-squared:  0.7976 \n",
       "F-statistic: 89.01 on 6 and 128 DF,  p-value: < 2.2e-16\n"
      ]
     },
     "metadata": {},
     "output_type": "display_data"
    },
    {
     "data": {
      "text/plain": [
       "\n",
       "Call:\n",
       "lm(formula = pct_estimate ~ stock.market + spending + manufacturing + \n",
       "    jobs + inflation + income, data = poll.National.Biden.c)\n",
       "\n",
       "Residuals:\n",
       "     Min       1Q   Median       3Q      Max \n",
       "-0.64573 -0.21509 -0.00903  0.17265  0.55651 \n",
       "\n",
       "Coefficients:\n",
       "              Estimate Std. Error t value Pr(>|t|)    \n",
       "(Intercept)    63.8155     1.0421  61.237  < 2e-16 ***\n",
       "stock.market   -3.7783     0.3197 -11.818  < 2e-16 ***\n",
       "spending       -1.0147     0.1227  -8.267 1.51e-13 ***\n",
       "manufacturing   0.7324     0.4782   1.532 0.128085    \n",
       "jobs            1.4126     0.1839   7.680 3.60e-12 ***\n",
       "inflation      -6.4757     1.7657  -3.667 0.000358 ***\n",
       "income         -0.3893     0.1521  -2.560 0.011631 *  \n",
       "---\n",
       "Signif. codes:  0 '***' 0.001 '**' 0.01 '*' 0.05 '.' 0.1 ' ' 1\n",
       "\n",
       "Residual standard error: 0.2679 on 128 degrees of freedom\n",
       "  (1 observation deleted due to missingness)\n",
       "Multiple R-squared:  0.8294,\tAdjusted R-squared:  0.8214 \n",
       "F-statistic: 103.7 on 6 and 128 DF,  p-value: < 2.2e-16\n"
      ]
     },
     "metadata": {},
     "output_type": "display_data"
    }
   ],
   "source": [
    "# Try to do it for states. Let's do Wisconsin. We can see that there're differences.\n",
    "poll.WI.Biden <- poll.p %>% filter(state == \"Wisconsin\", candidate_name == \"Joseph R. Biden Jr.\")\n",
    "poll.WI.Biden.c <- merge(poll.WI.Biden[1:136,],econ.avg.1m, by.x = \"modeldate\", by.y = \"modeldate\")\n",
    "lm3 <- lm( pct_estimate ~ stock.market + spending + manufacturing + jobs + inflation + income , poll.WI.Biden.c) \n",
    "summary(lm3) ##Wisconsin\n",
    "summary(lm1) ##National"
   ]
  }
 ],
 "metadata": {
  "kernelspec": {
   "display_name": "R",
   "language": "R",
   "name": "ir"
  },
  "language_info": {
   "codemirror_mode": "r",
   "file_extension": ".r",
   "mimetype": "text/x-r-source",
   "name": "R",
   "pygments_lexer": "r",
   "version": "3.6.1"
  }
 },
 "nbformat": 4,
 "nbformat_minor": 4
}
